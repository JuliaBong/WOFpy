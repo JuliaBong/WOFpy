{
 "cells": [
  {
   "cell_type": "markdown",
   "metadata": {},
   "source": [
    "# Testing WOFpy SOAP and REST for WOF/WaterML 1.1\n",
    "Testing performed on cloud-based WOFpy endpoints with ODM2 timeseries MySQL and PostgreSQL backends. These resources are managed by WOFpy developers for WOFpy testing and validation.\n",
    "\n",
    "8/19/2017. Don Setiawan and Emilio Mayorga\n",
    "\n",
    "Updates:\n",
    "- 8/21/2017 Added the printing of Exception, and spaces between requests"
   ]
  },
  {
   "cell_type": "code",
   "execution_count": 1,
   "metadata": {
    "collapsed": true
   },
   "outputs": [],
   "source": [
    "from urlparse import urljoin\n",
    "import io\n",
    "\n",
    "import requests\n",
    "import ulmo\n",
    "import sys, traceback"
   ]
  },
  {
   "cell_type": "code",
   "execution_count": 2,
   "metadata": {
    "collapsed": false
   },
   "outputs": [
    {
     "name": "stdout",
     "output_type": "stream",
     "text": [
      "\n",
      "    ulmo.cuahsi.wof\n",
      "    ~~~~~~~~~~~~~~~\n",
      "\n",
      "    `CUAHSI WaterOneFlow`_ web services\n",
      "\n",
      "    .. _CUAHSI WaterOneFlow: http://his.cuahsi.org/wofws.html\n",
      "\n"
     ]
    }
   ],
   "source": [
    "print(ulmo.cuahsi.wof.__doc__)"
   ]
  },
  {
   "cell_type": "code",
   "execution_count": 3,
   "metadata": {
    "collapsed": false
   },
   "outputs": [
    {
     "name": "stdout",
     "output_type": "stream",
     "text": [
      "['absolute_import', 'core', 'get_site_info', 'get_sites', 'get_values', 'get_variable_info']\n"
     ]
    }
   ],
   "source": [
    "print([obj for obj in dir(ulmo.cuahsi.wof) if not obj.startswith('__')])"
   ]
  },
  {
   "cell_type": "code",
   "execution_count": 4,
   "metadata": {
    "collapsed": true
   },
   "outputs": [],
   "source": [
    "def get_exception(exc_info):\n",
    "    exc_type, exc_value, exc_traceback = exc_info\n",
    "    print('*** {}:'.format(exc_type.__name__))\n",
    "    traceback.print_exception(exc_type, exc_value, exc_traceback, file=sys.stdout)\n",
    "    print('')"
   ]
  },
  {
   "cell_type": "markdown",
   "metadata": {},
   "source": [
    "## Endpoints and testing resources"
   ]
  },
  {
   "cell_type": "code",
   "execution_count": 5,
   "metadata": {
    "collapsed": true
   },
   "outputs": [],
   "source": [
    "def site_and_variable_codes(networkcode):\n",
    "    if 'postgres' in networkcode:\n",
    "        sitecode = '{netcode}:160065_4vars'.format(netcode=networkcode)\n",
    "        variablecode = '{netcode}:EnviroDIY_Mayfly_Temp'.format(netcode=networkcode)\n",
    "    elif 'mysql' in networkcode:\n",
    "        sitecode = '{netcode}:USU-LBR-Mendon'.format(netcode=networkcode)\n",
    "        variablecode = '{netcode}:USU36'.format(netcode=networkcode)\n",
    "    \n",
    "    return sitecode, variablecode"
   ]
  },
  {
   "cell_type": "code",
   "execution_count": 6,
   "metadata": {
    "collapsed": true
   },
   "outputs": [],
   "source": [
    "server_base_url = 'http://54.186.36.247:8080'\n",
    "networkcodes = ['postgresqlodm2timeseries', 'mysqlodm2timeseries']"
   ]
  },
  {
   "cell_type": "markdown",
   "metadata": {},
   "source": [
    "## SOAP 1.1 Testing"
   ]
  },
  {
   "cell_type": "code",
   "execution_count": 7,
   "metadata": {
    "collapsed": false,
    "scrolled": false
   },
   "outputs": [
    {
     "name": "stdout",
     "output_type": "stream",
     "text": [
      "--------------------------\n",
      "Testing http://54.186.36.247:8080/postgresqlodm2timeseries/soap/cuahsi_1_1/.wsdl\n",
      "--------------------------\n",
      "SITES-----------------\n",
      "GetSites failed!\n",
      "*** KeyError:\n",
      "Traceback (most recent call last):\n",
      "  File \"<ipython-input-7-53857f5fcb02>\", line 12, in <module>\n",
      "    sites = ulmo.cuahsi.wof.get_sites(url)\n",
      "  File \"//anaconda/envs/uwapl_em_mc_1aui/lib/python2.7/site-packages/ulmo/cuahsi/wof/core.py\", line 60, in get_sites\n",
      "    sites = waterml.v1_1.parse_site_infos(response_buffer)\n",
      "  File \"//anaconda/envs/uwapl_em_mc_1aui/lib/python2.7/site-packages/ulmo/waterml/v1_1.py\", line 9, in parse_site_infos\n",
      "    content_io, WATERML_V1_1_NAMESPACE, site_info_names=['siteInfo', 'sourceInfo'])\n",
      "  File \"//anaconda/envs/uwapl_em_mc_1aui/lib/python2.7/site-packages/ulmo/waterml/common.py\", line 108, in parse_site_infos\n",
      "    for site_info_element in site_info_elements\n",
      "  File \"//anaconda/envs/uwapl_em_mc_1aui/lib/python2.7/site-packages/ulmo/waterml/common.py\", line 324, in _parse_site_info\n",
      "    for note in site_info.findall(namespace + 'note')\n",
      "  File \"src/lxml/lxml.etree.pyx\", line 2452, in lxml.etree._Attrib.__getitem__ (src/lxml/lxml.etree.c:68625)\n",
      "KeyError: 'title'\n",
      "\n",
      "SITE INFO postgresqlodm2timeseries:160065_4vars-------------\n",
      "GetSiteInfo failed!\n",
      "*** KeyError:\n",
      "Traceback (most recent call last):\n",
      "  File \"<ipython-input-7-53857f5fcb02>\", line 23, in <module>\n",
      "    siteinfo = ulmo.cuahsi.wof.get_site_info(url, site_code=sitecode)\n",
      "  File \"//anaconda/envs/uwapl_em_mc_1aui/lib/python2.7/site-packages/ulmo/cuahsi/wof/core.py\", line 105, in get_site_info\n",
      "    sites = waterml.v1_1.parse_sites(response_buffer)\n",
      "  File \"//anaconda/envs/uwapl_em_mc_1aui/lib/python2.7/site-packages/ulmo/waterml/v1_1.py\", line 21, in parse_sites\n",
      "    return common.parse_sites(content_io, WATERML_V1_1_NAMESPACE)\n",
      "  File \"//anaconda/envs/uwapl_em_mc_1aui/lib/python2.7/site-packages/ulmo/waterml/common.py\", line 124, in parse_sites\n",
      "    for site_element in site_elements]\n",
      "  File \"//anaconda/envs/uwapl_em_mc_1aui/lib/python2.7/site-packages/ulmo/waterml/common.py\", line 281, in _parse_site\n",
      "    site_dict = _parse_site_info(site.find(namespace + 'siteInfo'), namespace)\n",
      "  File \"//anaconda/envs/uwapl_em_mc_1aui/lib/python2.7/site-packages/ulmo/waterml/common.py\", line 324, in _parse_site_info\n",
      "    for note in site_info.findall(namespace + 'note')\n",
      "  File \"src/lxml/lxml.etree.pyx\", line 2452, in lxml.etree._Attrib.__getitem__ (src/lxml/lxml.etree.c:68625)\n",
      "KeyError: 'title'\n",
      "\n",
      "VARIABLES-------------\n",
      "['postgresqlodm2timeseries:EnviroDIY_Mayfly_Volt', 'postgresqlodm2timeseries:Adafruit_DS18B20_Temp', 'postgresqlodm2timeseries:Decagon_ES-2_EC', 'postgresqlodm2timeseries:Adafruit_AM2315_humidity', 'postgresqlodm2timeseries:Decagon_CTD-10_Depth', 'postgresqlodm2timeseries:Decagon_5TM_VWC', 'postgresqlodm2timeseries:Adafruit_AM2315_Temp', 'postgresqlodm2timeseries:Campbell_OBS-3+_Turb', 'postgresqlodm2timeseries:EnviroDIY_Mayfly_FreeSRAM', 'postgresqlodm2timeseries:EnviroDIY_Mayfly_Temp', 'postgresqlodm2timeseries:Decagon_5TM_Ea', 'postgresqlodm2timeseries:Decagon_CTD-10_Temp', 'postgresqlodm2timeseries:Decagon_CTD-10_EC', 'postgresqlodm2timeseries:Seeed_BME280_Temp', 'postgresqlodm2timeseries:Seeed_BME280_humidity', 'postgresqlodm2timeseries:Decagon_ES-2_Temp', 'postgresqlodm2timeseries:Decagon_5TM_Temp', 'postgresqlodm2timeseries:MaxBotix_MB7386_Distance']\n",
      "\n",
      "VARIABLE INFO postgresqlodm2timeseries:EnviroDIY_Mayfly_Temp-------------\n",
      "Temperature\n",
      "\n",
      "VALUES----------------\n",
      "11\n",
      "\n",
      "--------------------------\n",
      "Testing http://54.186.36.247:8080/mysqlodm2timeseries/soap/cuahsi_1_1/.wsdl\n",
      "--------------------------\n",
      "SITES-----------------\n",
      "['mysqlodm2timeseries:USU-LBR-Mendon', 'mysqlodm2timeseries:USU-LBR-SFWeather']\n",
      "\n",
      "SITE INFO mysqlodm2timeseries:USU-LBR-Mendon-------------\n",
      "{'site_comments': 'Located below county road bridge at Mendon Road crossing'}\n",
      "\n",
      "VARIABLES-------------\n",
      "['mysqlodm2timeseries:USU57', 'mysqlodm2timeseries:USU56', 'mysqlodm2timeseries:USU55', 'mysqlodm2timeseries:USU54', 'mysqlodm2timeseries:USU53', 'mysqlodm2timeseries:USU52', 'mysqlodm2timeseries:USU51', 'mysqlodm2timeseries:USU47', 'mysqlodm2timeseries:USU59', 'mysqlodm2timeseries:USU58', 'mysqlodm2timeseries:USU13', 'mysqlodm2timeseries:USU10', 'mysqlodm2timeseries:USU17', 'mysqlodm2timeseries:USU16', 'mysqlodm2timeseries:USU15', 'mysqlodm2timeseries:USU14', 'mysqlodm2timeseries:USU35', 'mysqlodm2timeseries:USU34', 'mysqlodm2timeseries:USU37', 'mysqlodm2timeseries:USU36', 'mysqlodm2timeseries:USU31', 'mysqlodm2timeseries:USU30', 'mysqlodm2timeseries:USU33', 'mysqlodm2timeseries:USU32', 'mysqlodm2timeseries:USU7', 'mysqlodm2timeseries:USU6', 'mysqlodm2timeseries:USU5', 'mysqlodm2timeseries:USU4', 'mysqlodm2timeseries:USU3', 'mysqlodm2timeseries:USU9', 'mysqlodm2timeseries:USU8', 'mysqlodm2timeseries:USU19', 'mysqlodm2timeseries:USU62', 'mysqlodm2timeseries:USU60', 'mysqlodm2timeseries:USU61', 'mysqlodm2timeseries:USU18', 'mysqlodm2timeseries:USU44', 'mysqlodm2timeseries:USU50', 'mysqlodm2timeseries:USU48', 'mysqlodm2timeseries:USU49', 'mysqlodm2timeseries:USU28', 'mysqlodm2timeseries:USU29', 'mysqlodm2timeseries:USU26', 'mysqlodm2timeseries:USU27', 'mysqlodm2timeseries:USU24', 'mysqlodm2timeseries:USU25', 'mysqlodm2timeseries:USU22', 'mysqlodm2timeseries:USU23', 'mysqlodm2timeseries:USU20', 'mysqlodm2timeseries:USU21']\n",
      "\n",
      "VARIABLE INFO mysqlodm2timeseries:USU36-------------\n",
      "Temperature\n",
      "\n",
      "VALUES----------------\n",
      "1440\n",
      "\n"
     ]
    }
   ],
   "source": [
    "wofpy_wsdl_url = '/soap/cuahsi_1_1/.wsdl'\n",
    "for networkcode in networkcodes:\n",
    "    url = urljoin(server_base_url, networkcode+wofpy_wsdl_url)\n",
    "    sitecode, variablecode = site_and_variable_codes(networkcode)\n",
    "\n",
    "    print('--------------------------')\n",
    "    print('Testing {}'.format(url))\n",
    "    print('--------------------------')\n",
    "        \n",
    "    print('SITES-----------------')\n",
    "    try:\n",
    "        sites = ulmo.cuahsi.wof.get_sites(url)\n",
    "        \n",
    "        print(sites.keys())\n",
    "        print('')\n",
    "    except:\n",
    "        print('GetSites failed!')\n",
    "        get_exception(sys.exc_info())\n",
    "\n",
    "    \n",
    "    print('SITE INFO {}-------------'.format(sitecode))\n",
    "    try:\n",
    "        siteinfo = ulmo.cuahsi.wof.get_site_info(url, site_code=sitecode)\n",
    "        \n",
    "        print(siteinfo['site_property'])\n",
    "        print('')\n",
    "    except:\n",
    "        print('GetSiteInfo failed!')\n",
    "        get_exception(sys.exc_info())\n",
    "    \n",
    "    print('VARIABLES-------------')\n",
    "    try:\n",
    "        variables = ulmo.cuahsi.wof.get_variable_info(url)\n",
    "        \n",
    "        print(variables.keys())\n",
    "        print('')\n",
    "    except:\n",
    "        print('GetVariables failed!')\n",
    "        get_exception(sys.exc_info())\n",
    "\n",
    "    print('VARIABLE INFO {}-------------'.format(variablecode))\n",
    "    try:\n",
    "        variable = ulmo.cuahsi.wof.get_variable_info(url, variable_code=variablecode)\n",
    "        \n",
    "        print(variable['name'])\n",
    "        print('')\n",
    "    except:\n",
    "        print('GetVariableInfo failed!')\n",
    "        get_exception(sys.exc_info())\n",
    "    \n",
    "        \n",
    "    print('VALUES----------------')    \n",
    "    try:\n",
    "        values = ulmo.cuahsi.wof.get_values(url, site_code=sitecode, variable_code=variablecode)\n",
    "        \n",
    "        print(len(values['values']))\n",
    "        print('')\n",
    "    except:\n",
    "        print('GetValues failed!')\n",
    "        get_exception(sys.exc_info())"
   ]
  },
  {
   "cell_type": "markdown",
   "metadata": {},
   "source": [
    "## REST 1.1 Testing"
   ]
  },
  {
   "cell_type": "code",
   "execution_count": 8,
   "metadata": {
    "collapsed": false
   },
   "outputs": [
    {
     "name": "stdout",
     "output_type": "stream",
     "text": [
      "--------------------------\n",
      "Testing http://54.186.36.247:8080/postgresqlodm2timeseries/rest/1_1/\n",
      "--------------------------\n",
      "SITES-----------------\n",
      "GetSites failed!\n",
      "*** KeyError:\n",
      "Traceback (most recent call last):\n",
      "  File \"<ipython-input-8-580ac2f81f0e>\", line 14, in <module>\n",
      "    sites = ulmo.waterml.v1_1.parse_site_infos(response_buffer)\n",
      "  File \"//anaconda/envs/uwapl_em_mc_1aui/lib/python2.7/site-packages/ulmo/waterml/v1_1.py\", line 9, in parse_site_infos\n",
      "    content_io, WATERML_V1_1_NAMESPACE, site_info_names=['siteInfo', 'sourceInfo'])\n",
      "  File \"//anaconda/envs/uwapl_em_mc_1aui/lib/python2.7/site-packages/ulmo/waterml/common.py\", line 108, in parse_site_infos\n",
      "    for site_info_element in site_info_elements\n",
      "  File \"//anaconda/envs/uwapl_em_mc_1aui/lib/python2.7/site-packages/ulmo/waterml/common.py\", line 324, in _parse_site_info\n",
      "    for note in site_info.findall(namespace + 'note')\n",
      "  File \"src/lxml/lxml.etree.pyx\", line 2452, in lxml.etree._Attrib.__getitem__ (src/lxml/lxml.etree.c:68625)\n",
      "KeyError: 'title'\n",
      "\n",
      "SITE INFO postgresqlodm2timeseries:160065_4vars-------------\n",
      "GetSiteInfo failed!\n",
      "*** KeyError:\n",
      "Traceback (most recent call last):\n",
      "  File \"<ipython-input-8-580ac2f81f0e>\", line 26, in <module>\n",
      "    siteinfo = ulmo.waterml.v1_1.parse_sites(response_buffer)\n",
      "  File \"//anaconda/envs/uwapl_em_mc_1aui/lib/python2.7/site-packages/ulmo/waterml/v1_1.py\", line 21, in parse_sites\n",
      "    return common.parse_sites(content_io, WATERML_V1_1_NAMESPACE)\n",
      "  File \"//anaconda/envs/uwapl_em_mc_1aui/lib/python2.7/site-packages/ulmo/waterml/common.py\", line 124, in parse_sites\n",
      "    for site_element in site_elements]\n",
      "  File \"//anaconda/envs/uwapl_em_mc_1aui/lib/python2.7/site-packages/ulmo/waterml/common.py\", line 281, in _parse_site\n",
      "    site_dict = _parse_site_info(site.find(namespace + 'siteInfo'), namespace)\n",
      "  File \"//anaconda/envs/uwapl_em_mc_1aui/lib/python2.7/site-packages/ulmo/waterml/common.py\", line 324, in _parse_site_info\n",
      "    for note in site_info.findall(namespace + 'note')\n",
      "  File \"src/lxml/lxml.etree.pyx\", line 2452, in lxml.etree._Attrib.__getitem__ (src/lxml/lxml.etree.c:68625)\n",
      "KeyError: 'title'\n",
      "\n",
      "VARIABLES-------------\n",
      "['Decagon_CTD-10_Temp', 'Decagon_5TM_Temp', 'EnviroDIY_Mayfly_Temp', 'Adafruit_AM2315_Temp', 'EnviroDIY_Mayfly_Volt', 'Decagon_CTD-10_EC', 'Decagon_5TM_Ea', 'Seeed_BME280_Temp', 'Campbell_OBS-3+_Turb', 'Decagon_ES-2_EC', 'Decagon_CTD-10_Depth', 'Decagon_5TM_VWC', 'Decagon_ES-2_Temp', 'MaxBotix_MB7386_Distance', 'Adafruit_AM2315_humidity', 'EnviroDIY_Mayfly_FreeSRAM', 'Seeed_BME280_humidity', 'Adafruit_DS18B20_Temp']\n",
      "\n",
      "VARIABLE INFO postgresqlodm2timeseries:EnviroDIY_Mayfly_Temp-------------\n",
      "Temperature\n",
      "\n",
      "VALUES----------------\n",
      "11\n",
      "\n",
      "--------------------------\n",
      "Testing http://54.186.36.247:8080/mysqlodm2timeseries/rest/1_1/\n",
      "--------------------------\n",
      "SITES-----------------\n",
      "['USU-LBR-Mendon', 'USU-LBR-SFWeather']\n",
      "\n",
      "SITE INFO mysqlodm2timeseries:USU-LBR-Mendon-------------\n",
      "{'site_comments': 'Located below county road bridge at Mendon Road crossing'}\n",
      "\n",
      "VARIABLES-------------\n",
      "['USU36', 'USU35', 'USU44', 'USU47', 'USU48', 'USU49', 'USU30', 'USU26', 'USU27', 'USU24', 'USU25', 'USU22', 'USU23', 'USU20', 'USU21', 'USU62', 'USU31', 'USU60', 'USU61', 'USU28', 'USU29', 'USU7', 'USU6', 'USU5', 'USU4', 'USU3', 'USU33', 'USU32', 'USU9', 'USU8', 'USU57', 'USU56', 'USU55', 'USU54', 'USU53', 'USU52', 'USU51', 'USU50', 'USU59', 'USU58', 'USU13', 'USU34', 'USU37', 'USU10', 'USU17', 'USU16', 'USU15', 'USU14', 'USU19', 'USU18']\n",
      "\n",
      "VARIABLE INFO mysqlodm2timeseries:USU36-------------\n",
      "Temperature\n",
      "\n",
      "VALUES----------------\n",
      "1440\n",
      "\n"
     ]
    }
   ],
   "source": [
    "wofpy_rest_url = '/rest/1_1/'\n",
    "for networkcode in networkcodes:\n",
    "    url = urljoin(server_base_url, networkcode+wofpy_rest_url)\n",
    "    sitecode, variablecode = site_and_variable_codes(networkcode)\n",
    "\n",
    "    print('--------------------------')\n",
    "    print('Testing {}'.format(url))\n",
    "    print('--------------------------')\n",
    "    \n",
    "    print('SITES-----------------')\n",
    "    try:\n",
    "        req = requests.get(urljoin(url, 'GetSites'))\n",
    "        response_buffer = io.BytesIO(ulmo.util.to_bytes(req.content))\n",
    "        sites = ulmo.waterml.v1_1.parse_site_infos(response_buffer)\n",
    "        \n",
    "        print(sites.keys())\n",
    "        print('')\n",
    "    except:\n",
    "        print('GetSites failed!')\n",
    "        get_exception(sys.exc_info())\n",
    "    \n",
    "    print('SITE INFO {}-------------'.format(sitecode))\n",
    "    try:\n",
    "        req = requests.get(urljoin(url, 'GetSiteInfo'), params={'site':sitecode})\n",
    "        response_buffer = io.BytesIO(ulmo.util.to_bytes(req.content))\n",
    "        siteinfo = ulmo.waterml.v1_1.parse_sites(response_buffer)\n",
    "        \n",
    "        print(siteinfo[sitecode.split(':')[1]]['site_property'])\n",
    "        print('')\n",
    "    except:\n",
    "        print('GetSiteInfo failed!')\n",
    "        get_exception(sys.exc_info())\n",
    "    \n",
    "    print('VARIABLES-------------')\n",
    "    try:\n",
    "        req = requests.get(urljoin(url, 'GetVariables'))\n",
    "        response_buffer = io.BytesIO(ulmo.util.to_bytes(req.content))\n",
    "        variables = ulmo.waterml.v1_1.parse_variables(response_buffer)\n",
    "        \n",
    "        print(variables.keys())\n",
    "        print('')\n",
    "    except:\n",
    "        print('GetVariables failed!')\n",
    "        get_exception(sys.exc_info())\n",
    "\n",
    "    print('VARIABLE INFO {}-------------'.format(variablecode))\n",
    "    try:\n",
    "        req = requests.get(urljoin(url, 'GetVariableInfo'), params={'variable':variablecode})\n",
    "        response_buffer = io.BytesIO(ulmo.util.to_bytes(req.content))\n",
    "        variable = ulmo.waterml.v1_1.parse_variables(response_buffer)\n",
    "        \n",
    "        print(variable[variablecode.split(':')[1]]['name'])\n",
    "        print('')\n",
    "    except:\n",
    "        print('GetVariableInfo failed!')\n",
    "        get_exception(sys.exc_info())\n",
    "    \n",
    "        \n",
    "    print('VALUES----------------')    \n",
    "    try:\n",
    "        req = requests.get(urljoin(url, 'GetValues'), params={'location':sitecode, \n",
    "                                                              'variable':variablecode})\n",
    "        response_buffer = io.BytesIO(ulmo.util.to_bytes(req.content))\n",
    "        values = ulmo.waterml.v1_1.parse_site_values(response_buffer)\n",
    "        \n",
    "        print(len(values[variablecode.split(':')[1]]['values']))\n",
    "        print('')\n",
    "    except:\n",
    "        print('GetValues failed!')\n",
    "        get_exception(sys.exc_info())"
   ]
  },
  {
   "cell_type": "code",
   "execution_count": null,
   "metadata": {
    "collapsed": true
   },
   "outputs": [],
   "source": []
  }
 ],
 "metadata": {
  "kernelspec": {
   "display_name": "Python 2",
   "language": "python",
   "name": "python2"
  },
  "language_info": {
   "codemirror_mode": {
    "name": "ipython",
    "version": 2
   },
   "file_extension": ".py",
   "mimetype": "text/x-python",
   "name": "python",
   "nbconvert_exporter": "python",
   "pygments_lexer": "ipython2",
   "version": "2.7.12"
  }
 },
 "nbformat": 4,
 "nbformat_minor": 2
}
